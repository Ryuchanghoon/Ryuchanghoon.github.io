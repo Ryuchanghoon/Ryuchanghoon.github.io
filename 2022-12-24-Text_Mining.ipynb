{
  "nbformat": 4,
  "nbformat_minor": 0,
  "metadata": {
    "colab": {
      "provenance": []
    },
    "kernelspec": {
      "name": "python3",
      "display_name": "Python 3"
    },
    "language_info": {
      "name": "python"
    }
  },
  "cells": [
    {
      "cell_type": "markdown",
      "source": [
        " 텍스트 마이닝(Text Mining)"
      ],
      "metadata": {
        "id": "gqObAzbMHtQ0"
      }
    },
    {
      "cell_type": "markdown",
      "source": [
        "문자 데이터를 활용해서, 필요한 정보를 얻어내는 분석을 텍스트 마이닝(Text Mining)이라고 합니다. 단어의 빈도를 한눈에 파악 할 때 굉장히 유용한 기법입니다."
      ],
      "metadata": {
        "id": "UpCGiinlH8yH"
      }
    },
    {
      "cell_type": "markdown",
      "source": [
        "텍스트 마이닝 기법을 사용하기 위해서, 먼저 패키지를 설치해야 합니다"
      ],
      "metadata": {
        "id": "3UqIWXrqH9gO"
      }
    },
    {
      "cell_type": "code",
      "source": [
        "! pip install jpype1"
      ],
      "metadata": {
        "colab": {
          "base_uri": "https://localhost:8080/"
        },
        "id": "Er0LXSmRIH7r",
        "outputId": "b5d58312-f320-46ff-cb3a-60432644bbf1"
      },
      "execution_count": 1,
      "outputs": [
        {
          "output_type": "stream",
          "name": "stdout",
          "text": [
            "Looking in indexes: https://pypi.org/simple, https://us-python.pkg.dev/colab-wheels/public/simple/\n",
            "Requirement already satisfied: jpype1 in /usr/local/lib/python3.8/dist-packages (1.4.1)\n",
            "Requirement already satisfied: packaging in /usr/local/lib/python3.8/dist-packages (from jpype1) (21.3)\n",
            "Requirement already satisfied: pyparsing!=3.0.5,>=2.0.2 in /usr/local/lib/python3.8/dist-packages (from packaging->jpype1) (3.0.9)\n"
          ]
        }
      ]
    },
    {
      "cell_type": "code",
      "source": [
        "! pip install konlpy"
      ],
      "metadata": {
        "colab": {
          "base_uri": "https://localhost:8080/"
        },
        "id": "xCgssl9QINT0",
        "outputId": "a6065dc2-5eff-4e33-c894-d4a8345a6a04"
      },
      "execution_count": 2,
      "outputs": [
        {
          "output_type": "stream",
          "name": "stdout",
          "text": [
            "Looking in indexes: https://pypi.org/simple, https://us-python.pkg.dev/colab-wheels/public/simple/\n",
            "Requirement already satisfied: konlpy in /usr/local/lib/python3.8/dist-packages (0.6.0)\n",
            "Requirement already satisfied: JPype1>=0.7.0 in /usr/local/lib/python3.8/dist-packages (from konlpy) (1.4.1)\n",
            "Requirement already satisfied: numpy>=1.6 in /usr/local/lib/python3.8/dist-packages (from konlpy) (1.21.6)\n",
            "Requirement already satisfied: lxml>=4.1.0 in /usr/local/lib/python3.8/dist-packages (from konlpy) (4.9.2)\n",
            "Requirement already satisfied: packaging in /usr/local/lib/python3.8/dist-packages (from JPype1>=0.7.0->konlpy) (21.3)\n",
            "Requirement already satisfied: pyparsing!=3.0.5,>=2.0.2 in /usr/local/lib/python3.8/dist-packages (from packaging->JPype1>=0.7.0->konlpy) (3.0.9)\n"
          ]
        }
      ]
    },
    {
      "cell_type": "markdown",
      "source": [
        "패키지 설치를 완료하면, Text Mining을 할 준비가 완료됩니다."
      ],
      "metadata": {
        "id": "gXKDkPDdISp-"
      }
    },
    {
      "cell_type": "code",
      "source": [
        "data = open('/content/drive/MyDrive/dj.txt.txt', encoding = 'UTF-8').read()\n",
        "data"
      ],
      "metadata": {
        "colab": {
          "base_uri": "https://localhost:8080/",
          "height": 146
        },
        "id": "BpRG7d26IPhO",
        "outputId": "bc8ae802-72f7-4815-fc37-18356133d0f1"
      },
      "execution_count": 3,
      "outputs": [
        {
          "output_type": "execute_result",
          "data": {
            "text/plain": [
              "'존경하는 내외 국민 여러분!\\n \\n다시 한번 여러분의 축하에 감사드립니다. 특히 외국에서 오신 귀빈 여러분께서는 공사간 매우 다망하신데도 불구하고, 이렇게 먼 길 오셔서 축하해 주시니 무어라 감사의 말씀을 드려야 할지 모르겠습니다.\\n\\n여러분께서는 이 나라에서 50년 만에 여야 간의 평화적 정권교체가 이루어진 데 대해 민주주의의 큰 승리로 생각하고, 축하하고 격려하기 위해 오신 것으로 믿습니다. 또한 여러분께서는 우리가 지금 금융과 외환위기에 처해서 이를 극복하고자 국민과 정부가 하나가 되어 힘쓰고 있는 데 대해, 격려와 성원을 아끼지 않는 심정에서 오신 것으로 믿고 있습니다. 우리는 민주주의와 시장경제를 같이 발전시켜서 여러분 나라에서와 같이 훌륭한 성공을 거둠으로써 여러분의 성원에 보답할 것을 굳게 다짐하고자 합니다.\\n\\n저는 오랜 군사통치와 권위주의 정치 아래에서 수많은 박해를 받았습니다. 다섯 번에 걸쳐 죽음의 고비를 맞아야 했고, 6년간 감옥살이를 했으며, 10년을 망명과 연금생활 속에 살아야만 했습니다. 그러나 저는 이러한 고통스러운 생활 속에서도 민주주의와 정의는 필승한다는 사실을 한 번도 의심해 본 일이 없습니다. 설사 제 당대에서는 성공하지 못하더라도, 국민의 마음과 역사 속에서 저를 박해한 그들은 반드시 패자가 되고 저는 승자가 될 것이라는 점을 확신해 마지않았습니다. 그런데 저는 살아서 승리의 영광을 차재하게 된 것입니다. 얼마나 감사한 일이겠습니까.\\n\\n그러나 저를 시험하는 힘든 과정은 결코 끝나지 않았습니다. 대통령에 당선된 그날부터 외환위기의 극복과 IMF와의 힘겨운 협력체제 확립에 몰두하지 않을 수 없었습니다. 우리는 너무도 심각하고 너무도 긴박한 상황 속에 놓여 있습니다. 저는 취임 전인 지난 2개월간 실질적인 대통령 역할을 하지 않으면 안되었습니다. 다행히 국가적인 파국은 일단 모면했습니다. 그러나 위기는 아직도 계속되고 있습니다. 우리는 이 위기를 극복하기 위해 앞으로도 최선을 다하고, IMF와의 협약을 충실히 지켜 나갈 것입니다. 여러분의 계속된 성원을 바라 마지않습니다.\\n\\n저는 오늘의 난국을, 어렵지만 반드시 해결해 나가겠습니다. 무엇보다 시장경제 원리에 입각한 과감한 경제개혁을 관철시키겠습니다. 이 개혁은 노사정 3자의 고통 분담과 공동의 노력을 통해 이루어질 수 있습니다. 그리고 무엇보다 국민의 땀과 눈물이 요구되고 있습니다. 우리 국민이 나라를 살리기 위해 적극 협력할 것임을 굳게 믿습니다.\\n\\n또한 이 난국을 극복하기 위해서는 세계 각국과 관계 국제기관의 협력이 절실히 필요합니다. 하늘은 스스로 돕는 자를 돕는다고 했습니다. 우리가 모든 희생을 무릅쓰고 위기극복에 노력한다면, 세계의 친구들도 지원을 아끼지 않을 것을 믿어 의심치 않습니다.\\n\\n우리는 결코 일방적으로 세계의 지원에 의존하지는 않을 것입니다. WTO체제가 요구하는 개방과 협력의 자세를 견지할 것입니다. 교역과 투자에 있어서 가장 믿음직하고 이득을 줄수 있는 파트너가 되도록 힘쓰겠습니다. 우리는 세계로 나아가고 세계는 우리에게 진출하는, 그러한 상호협력의 시대를 열고자 합니다.\\n\\n한반도 평화는 우리의 지상과제입니다. 우리는 확고한 안보체제 위에 남북한 평화를 실현하고 가능한 교류, 협력을 증진시켜 남북이 서로 공존하고 공영하는 내일을 열어 나가겠습니다. 그리하여 7,000만 우리 민족이 전쟁의 두려움 없이 서로 왕래하고 협력하는 그러한 내일을 하루속히 실현하고자 합니다. 이것이야말로 민족의 완전한 통일을 위한 지름길이라 생각합니다.\\n\\n저는 우리 국민의 애국심을 믿습니다. 그들의 능력을 믿습니다. 높은 교육수준과 문화적 전통을 가진 우리 민족을 자랑스럽게 생각합니다. 역사가 증명하듯 우리는 이웃 나라와 선린우호에 힘써 왔으며 문화적 교류, 협력을 통해 서로를 살찌게 해 왔습니다. 이제 세계 각국과의 문화교류를 통해 문화한국의 내일을 크게 개척해 나가고자 합니다. 여러분의 나라와 더 많은 교류, 협력이 이루어질 수 있도록 도와주시기 바랍니다. 한국에 계시는 동안 즐거운 시간이 되시길 바랍니다.\\n\\n내외 국민 여러분!\\n\\n다시 한번 깊은 감사를 드립니다.\\n'"
            ],
            "application/vnd.google.colaboratory.intrinsic+json": {
              "type": "string"
            }
          },
          "metadata": {},
          "execution_count": 3
        }
      ]
    },
    {
      "cell_type": "markdown",
      "source": [
        "먼저 텍스트 데이터를 불러왔습니다. 데이터는 김대중 전 대통령의 연설문 입니다. 불필요한 문자가 보이는 것을 알 수 있습니다."
      ],
      "metadata": {
        "id": "4R8JkU6oIkKA"
      }
    },
    {
      "cell_type": "code",
      "source": [
        "import re\n",
        "data = re.sub('[^가-힣]',' ', data)\n",
        "data"
      ],
      "metadata": {
        "colab": {
          "base_uri": "https://localhost:8080/",
          "height": 146
        },
        "id": "VfXpDGHhIfgv",
        "outputId": "9eb8709f-119a-48dd-bbb2-42a5089a4c21"
      },
      "execution_count": 4,
      "outputs": [
        {
          "output_type": "execute_result",
          "data": {
            "text/plain": [
              "'존경하는 내외 국민 여러분    다시 한번 여러분의 축하에 감사드립니다  특히 외국에서 오신 귀빈 여러분께서는 공사간 매우 다망하신데도 불구하고  이렇게 먼 길 오셔서 축하해 주시니 무어라 감사의 말씀을 드려야 할지 모르겠습니다   여러분께서는 이 나라에서   년 만에 여야 간의 평화적 정권교체가 이루어진 데 대해 민주주의의 큰 승리로 생각하고  축하하고 격려하기 위해 오신 것으로 믿습니다  또한 여러분께서는 우리가 지금 금융과 외환위기에 처해서 이를 극복하고자 국민과 정부가 하나가 되어 힘쓰고 있는 데 대해  격려와 성원을 아끼지 않는 심정에서 오신 것으로 믿고 있습니다  우리는 민주주의와 시장경제를 같이 발전시켜서 여러분 나라에서와 같이 훌륭한 성공을 거둠으로써 여러분의 성원에 보답할 것을 굳게 다짐하고자 합니다   저는 오랜 군사통치와 권위주의 정치 아래에서 수많은 박해를 받았습니다  다섯 번에 걸쳐 죽음의 고비를 맞아야 했고   년간 감옥살이를 했으며    년을 망명과 연금생활 속에 살아야만 했습니다  그러나 저는 이러한 고통스러운 생활 속에서도 민주주의와 정의는 필승한다는 사실을 한 번도 의심해 본 일이 없습니다  설사 제 당대에서는 성공하지 못하더라도  국민의 마음과 역사 속에서 저를 박해한 그들은 반드시 패자가 되고 저는 승자가 될 것이라는 점을 확신해 마지않았습니다  그런데 저는 살아서 승리의 영광을 차재하게 된 것입니다  얼마나 감사한 일이겠습니까   그러나 저를 시험하는 힘든 과정은 결코 끝나지 않았습니다  대통령에 당선된 그날부터 외환위기의 극복과    와의 힘겨운 협력체제 확립에 몰두하지 않을 수 없었습니다  우리는 너무도 심각하고 너무도 긴박한 상황 속에 놓여 있습니다  저는 취임 전인 지난  개월간 실질적인 대통령 역할을 하지 않으면 안되었습니다  다행히 국가적인 파국은 일단 모면했습니다  그러나 위기는 아직도 계속되고 있습니다  우리는 이 위기를 극복하기 위해 앞으로도 최선을 다하고     와의 협약을 충실히 지켜 나갈 것입니다  여러분의 계속된 성원을 바라 마지않습니다   저는 오늘의 난국을  어렵지만 반드시 해결해 나가겠습니다  무엇보다 시장경제 원리에 입각한 과감한 경제개혁을 관철시키겠습니다  이 개혁은 노사정  자의 고통 분담과 공동의 노력을 통해 이루어질 수 있습니다  그리고 무엇보다 국민의 땀과 눈물이 요구되고 있습니다  우리 국민이 나라를 살리기 위해 적극 협력할 것임을 굳게 믿습니다   또한 이 난국을 극복하기 위해서는 세계 각국과 관계 국제기관의 협력이 절실히 필요합니다  하늘은 스스로 돕는 자를 돕는다고 했습니다  우리가 모든 희생을 무릅쓰고 위기극복에 노력한다면  세계의 친구들도 지원을 아끼지 않을 것을 믿어 의심치 않습니다   우리는 결코 일방적으로 세계의 지원에 의존하지는 않을 것입니다     체제가 요구하는 개방과 협력의 자세를 견지할 것입니다  교역과 투자에 있어서 가장 믿음직하고 이득을 줄수 있는 파트너가 되도록 힘쓰겠습니다  우리는 세계로 나아가고 세계는 우리에게 진출하는  그러한 상호협력의 시대를 열고자 합니다   한반도 평화는 우리의 지상과제입니다  우리는 확고한 안보체제 위에 남북한 평화를 실현하고 가능한 교류  협력을 증진시켜 남북이 서로 공존하고 공영하는 내일을 열어 나가겠습니다  그리하여      만 우리 민족이 전쟁의 두려움 없이 서로 왕래하고 협력하는 그러한 내일을 하루속히 실현하고자 합니다  이것이야말로 민족의 완전한 통일을 위한 지름길이라 생각합니다   저는 우리 국민의 애국심을 믿습니다  그들의 능력을 믿습니다  높은 교육수준과 문화적 전통을 가진 우리 민족을 자랑스럽게 생각합니다  역사가 증명하듯 우리는 이웃 나라와 선린우호에 힘써 왔으며 문화적 교류  협력을 통해 서로를 살찌게 해 왔습니다  이제 세계 각국과의 문화교류를 통해 문화한국의 내일을 크게 개척해 나가고자 합니다  여러분의 나라와 더 많은 교류  협력이 이루어질 수 있도록 도와주시기 바랍니다  한국에 계시는 동안 즐거운 시간이 되시길 바랍니다   내외 국민 여러분   다시 한번 깊은 감사를 드립니다  '"
            ],
            "application/vnd.google.colaboratory.intrinsic+json": {
              "type": "string"
            }
          },
          "metadata": {},
          "execution_count": 4
        }
      ]
    },
    {
      "cell_type": "markdown",
      "source": [
        "re 패키지를 import 해서 한글이 아닌 데이터를 제거해 주었습니다."
      ],
      "metadata": {
        "id": "VM2O0UxeJVJI"
      }
    },
    {
      "cell_type": "code",
      "source": [
        "!pip install konlpy"
      ],
      "metadata": {
        "colab": {
          "base_uri": "https://localhost:8080/"
        },
        "id": "PEjebPgTItCz",
        "outputId": "ba262dad-ca93-4310-f6ef-c4a0d93a7392"
      },
      "execution_count": 5,
      "outputs": [
        {
          "output_type": "stream",
          "name": "stdout",
          "text": [
            "Looking in indexes: https://pypi.org/simple, https://us-python.pkg.dev/colab-wheels/public/simple/\n",
            "Requirement already satisfied: konlpy in /usr/local/lib/python3.8/dist-packages (0.6.0)\n",
            "Requirement already satisfied: lxml>=4.1.0 in /usr/local/lib/python3.8/dist-packages (from konlpy) (4.9.2)\n",
            "Requirement already satisfied: JPype1>=0.7.0 in /usr/local/lib/python3.8/dist-packages (from konlpy) (1.4.1)\n",
            "Requirement already satisfied: numpy>=1.6 in /usr/local/lib/python3.8/dist-packages (from konlpy) (1.21.6)\n",
            "Requirement already satisfied: packaging in /usr/local/lib/python3.8/dist-packages (from JPype1>=0.7.0->konlpy) (21.3)\n",
            "Requirement already satisfied: pyparsing!=3.0.5,>=2.0.2 in /usr/local/lib/python3.8/dist-packages (from packaging->JPype1>=0.7.0->konlpy) (3.0.9)\n"
          ]
        }
      ]
    },
    {
      "cell_type": "code",
      "source": [
        "import konlpy\n",
        "hannanum = konlpy.tag.Hannanum()\n",
        "\n",
        "nouns = hannanum.nouns(data)\n",
        "nouns"
      ],
      "metadata": {
        "colab": {
          "base_uri": "https://localhost:8080/"
        },
        "id": "p9dn_f7YJbcA",
        "outputId": "197a768e-6237-47f2-ebed-06b758b010fb"
      },
      "execution_count": 6,
      "outputs": [
        {
          "output_type": "execute_result",
          "data": {
            "text/plain": [
              "['존경',\n",
              " '내외',\n",
              " '국민',\n",
              " '여러분',\n",
              " '한번',\n",
              " '여러분',\n",
              " '축하',\n",
              " '외국',\n",
              " '귀빈',\n",
              " '여러분',\n",
              " '공사간',\n",
              " '다망',\n",
              " '불구',\n",
              " '길',\n",
              " '축하',\n",
              " '무어',\n",
              " '감사',\n",
              " '말씀',\n",
              " '여러분',\n",
              " '나라',\n",
              " '년',\n",
              " '만',\n",
              " '여',\n",
              " '간',\n",
              " '평화적',\n",
              " '정권교체',\n",
              " '데',\n",
              " '민주주의',\n",
              " '승리',\n",
              " '생각',\n",
              " '축하',\n",
              " '격려',\n",
              " '것',\n",
              " '여러분',\n",
              " '우리',\n",
              " '금융',\n",
              " '외환위',\n",
              " '이',\n",
              " '극복',\n",
              " '국민',\n",
              " '정부',\n",
              " '하나',\n",
              " '데',\n",
              " '격려',\n",
              " '성원',\n",
              " '심정',\n",
              " '것',\n",
              " '우리',\n",
              " '민주주의',\n",
              " '시장경제',\n",
              " '발전',\n",
              " '여러분',\n",
              " '나라',\n",
              " '훌륭',\n",
              " '성공',\n",
              " '여러분',\n",
              " '성원',\n",
              " '보답',\n",
              " '것',\n",
              " '다짐',\n",
              " '저',\n",
              " '군사통치',\n",
              " '권위주의',\n",
              " '정치',\n",
              " '아래',\n",
              " '박해',\n",
              " '다섯',\n",
              " '번',\n",
              " '죽음',\n",
              " '고비',\n",
              " '년',\n",
              " '감옥살이',\n",
              " '년',\n",
              " '망명',\n",
              " '연금생활',\n",
              " '속',\n",
              " '저',\n",
              " '고통',\n",
              " '생활',\n",
              " '속',\n",
              " '민주주의',\n",
              " '정의',\n",
              " '필승',\n",
              " '사실',\n",
              " '번',\n",
              " '의심',\n",
              " '일',\n",
              " '저',\n",
              " '당대',\n",
              " '성공',\n",
              " '국민',\n",
              " '마음',\n",
              " '역사',\n",
              " '속',\n",
              " '저',\n",
              " '그',\n",
              " '패자',\n",
              " '저',\n",
              " '승자',\n",
              " '것',\n",
              " '점',\n",
              " '확신',\n",
              " '저',\n",
              " '승리',\n",
              " '영광',\n",
              " '차재하',\n",
              " '것',\n",
              " '감사',\n",
              " '일',\n",
              " '저',\n",
              " '시험',\n",
              " '과정',\n",
              " '대통령',\n",
              " '당선',\n",
              " '그날',\n",
              " '외환위기',\n",
              " '극복',\n",
              " '와',\n",
              " '협력체제',\n",
              " '확립',\n",
              " '몰두',\n",
              " '수',\n",
              " '우리',\n",
              " '심각',\n",
              " '긴박',\n",
              " '상황',\n",
              " '속',\n",
              " '저',\n",
              " '취',\n",
              " '전',\n",
              " '개월',\n",
              " '실질적',\n",
              " '대통령',\n",
              " '역할',\n",
              " '국가적',\n",
              " '파국',\n",
              " '모면',\n",
              " '위기',\n",
              " '계속',\n",
              " '우리',\n",
              " '위',\n",
              " '극복',\n",
              " '앞',\n",
              " '최선',\n",
              " '와',\n",
              " '협약',\n",
              " '것',\n",
              " '여러분',\n",
              " '계속',\n",
              " '성원',\n",
              " '저',\n",
              " '오늘',\n",
              " '난국',\n",
              " '해결',\n",
              " '무엇',\n",
              " '시장경제',\n",
              " '원리',\n",
              " '입각',\n",
              " '과감',\n",
              " '경제개혁',\n",
              " '관철',\n",
              " '개혁',\n",
              " '노사정',\n",
              " '자',\n",
              " '고통',\n",
              " '분담',\n",
              " '공동',\n",
              " '노력',\n",
              " '수',\n",
              " '무엇',\n",
              " '국민',\n",
              " '땀',\n",
              " '눈물',\n",
              " '요구',\n",
              " '우리',\n",
              " '국민',\n",
              " '나라',\n",
              " '리',\n",
              " '적극',\n",
              " '협력',\n",
              " '것',\n",
              " '난국',\n",
              " '극복',\n",
              " '세계',\n",
              " '각국',\n",
              " '관계',\n",
              " '국제기관',\n",
              " '협력',\n",
              " '필요',\n",
              " '하늘',\n",
              " '자',\n",
              " '우리',\n",
              " '희생',\n",
              " '위기극복',\n",
              " '노력',\n",
              " '세계',\n",
              " '친구들',\n",
              " '지원',\n",
              " '것',\n",
              " '의심치',\n",
              " '우리',\n",
              " '일방적',\n",
              " '세계',\n",
              " '지원',\n",
              " '의존',\n",
              " '것',\n",
              " '체제',\n",
              " '요구',\n",
              " '개방',\n",
              " '협력',\n",
              " '자세',\n",
              " '견지',\n",
              " '것',\n",
              " '교역',\n",
              " '투자',\n",
              " '이득',\n",
              " '수',\n",
              " '파트너',\n",
              " '우리',\n",
              " '세계',\n",
              " '세계',\n",
              " '우리',\n",
              " '진출',\n",
              " '상호협력',\n",
              " '시대',\n",
              " '한반',\n",
              " '평화',\n",
              " '우리',\n",
              " '지상과제',\n",
              " '우리',\n",
              " '확고',\n",
              " '안보체제',\n",
              " '위',\n",
              " '남북한',\n",
              " '평화',\n",
              " '실현',\n",
              " '가능',\n",
              " '교류',\n",
              " '협력',\n",
              " '증진',\n",
              " '남북',\n",
              " '공존',\n",
              " '공영',\n",
              " '내일',\n",
              " '우리',\n",
              " '민족',\n",
              " '전쟁',\n",
              " '두려움',\n",
              " '왕래',\n",
              " '협력',\n",
              " '내일',\n",
              " '실현',\n",
              " '이것',\n",
              " '민족',\n",
              " '완전',\n",
              " '통일',\n",
              " '지름길',\n",
              " '생각',\n",
              " '저',\n",
              " '우리',\n",
              " '국민',\n",
              " '애국심',\n",
              " '그',\n",
              " '능력',\n",
              " '교육수준',\n",
              " '문화적',\n",
              " '전통',\n",
              " '우리',\n",
              " '민족',\n",
              " '자랑',\n",
              " '생각',\n",
              " '역사',\n",
              " '증명',\n",
              " '우리',\n",
              " '이웃',\n",
              " '나라',\n",
              " '선린우호',\n",
              " '문화적',\n",
              " '교류',\n",
              " '협력',\n",
              " '서로',\n",
              " '세계',\n",
              " '각국',\n",
              " '문화교류',\n",
              " '문화한국의',\n",
              " '내일',\n",
              " '개척',\n",
              " '여러분',\n",
              " '나라',\n",
              " '교류',\n",
              " '협력',\n",
              " '수',\n",
              " '한국',\n",
              " '동안',\n",
              " '시간',\n",
              " '되시길',\n",
              " '내외',\n",
              " '국민',\n",
              " '여러분',\n",
              " '한번',\n",
              " '감사',\n",
              " '드']"
            ]
          },
          "metadata": {},
          "execution_count": 6
        }
      ]
    },
    {
      "cell_type": "markdown",
      "source": [
        "텍스트에서 명사 추출을 위해, konlpy.tag.Hannanum()의 nouns()를 이용했습니다."
      ],
      "metadata": {
        "id": "V88wTLIpKEyC"
      }
    },
    {
      "cell_type": "markdown",
      "source": [
        "위와 같이 명사만 추출된 것을 볼 수 있습니다."
      ],
      "metadata": {
        "id": "sNZ8LFx7KXMw"
      }
    },
    {
      "cell_type": "code",
      "source": [
        "import pandas as pd\n",
        "word = pd.DataFrame({'word' : nouns})\n",
        "word"
      ],
      "metadata": {
        "colab": {
          "base_uri": "https://localhost:8080/",
          "height": 424
        },
        "id": "-_7LNozdKBVb",
        "outputId": "a3182dc8-ce15-49cc-dacb-367a9788b35c"
      },
      "execution_count": 7,
      "outputs": [
        {
          "output_type": "execute_result",
          "data": {
            "text/plain": [
              "    word\n",
              "0     존경\n",
              "1     내외\n",
              "2     국민\n",
              "3    여러분\n",
              "4     한번\n",
              "..   ...\n",
              "297   국민\n",
              "298  여러분\n",
              "299   한번\n",
              "300   감사\n",
              "301    드\n",
              "\n",
              "[302 rows x 1 columns]"
            ],
            "text/html": [
              "\n",
              "  <div id=\"df-c0794545-6a28-4fad-bcd6-3dca3cf6d115\">\n",
              "    <div class=\"colab-df-container\">\n",
              "      <div>\n",
              "<style scoped>\n",
              "    .dataframe tbody tr th:only-of-type {\n",
              "        vertical-align: middle;\n",
              "    }\n",
              "\n",
              "    .dataframe tbody tr th {\n",
              "        vertical-align: top;\n",
              "    }\n",
              "\n",
              "    .dataframe thead th {\n",
              "        text-align: right;\n",
              "    }\n",
              "</style>\n",
              "<table border=\"1\" class=\"dataframe\">\n",
              "  <thead>\n",
              "    <tr style=\"text-align: right;\">\n",
              "      <th></th>\n",
              "      <th>word</th>\n",
              "    </tr>\n",
              "  </thead>\n",
              "  <tbody>\n",
              "    <tr>\n",
              "      <th>0</th>\n",
              "      <td>존경</td>\n",
              "    </tr>\n",
              "    <tr>\n",
              "      <th>1</th>\n",
              "      <td>내외</td>\n",
              "    </tr>\n",
              "    <tr>\n",
              "      <th>2</th>\n",
              "      <td>국민</td>\n",
              "    </tr>\n",
              "    <tr>\n",
              "      <th>3</th>\n",
              "      <td>여러분</td>\n",
              "    </tr>\n",
              "    <tr>\n",
              "      <th>4</th>\n",
              "      <td>한번</td>\n",
              "    </tr>\n",
              "    <tr>\n",
              "      <th>...</th>\n",
              "      <td>...</td>\n",
              "    </tr>\n",
              "    <tr>\n",
              "      <th>297</th>\n",
              "      <td>국민</td>\n",
              "    </tr>\n",
              "    <tr>\n",
              "      <th>298</th>\n",
              "      <td>여러분</td>\n",
              "    </tr>\n",
              "    <tr>\n",
              "      <th>299</th>\n",
              "      <td>한번</td>\n",
              "    </tr>\n",
              "    <tr>\n",
              "      <th>300</th>\n",
              "      <td>감사</td>\n",
              "    </tr>\n",
              "    <tr>\n",
              "      <th>301</th>\n",
              "      <td>드</td>\n",
              "    </tr>\n",
              "  </tbody>\n",
              "</table>\n",
              "<p>302 rows × 1 columns</p>\n",
              "</div>\n",
              "      <button class=\"colab-df-convert\" onclick=\"convertToInteractive('df-c0794545-6a28-4fad-bcd6-3dca3cf6d115')\"\n",
              "              title=\"Convert this dataframe to an interactive table.\"\n",
              "              style=\"display:none;\">\n",
              "        \n",
              "  <svg xmlns=\"http://www.w3.org/2000/svg\" height=\"24px\"viewBox=\"0 0 24 24\"\n",
              "       width=\"24px\">\n",
              "    <path d=\"M0 0h24v24H0V0z\" fill=\"none\"/>\n",
              "    <path d=\"M18.56 5.44l.94 2.06.94-2.06 2.06-.94-2.06-.94-.94-2.06-.94 2.06-2.06.94zm-11 1L8.5 8.5l.94-2.06 2.06-.94-2.06-.94L8.5 2.5l-.94 2.06-2.06.94zm10 10l.94 2.06.94-2.06 2.06-.94-2.06-.94-.94-2.06-.94 2.06-2.06.94z\"/><path d=\"M17.41 7.96l-1.37-1.37c-.4-.4-.92-.59-1.43-.59-.52 0-1.04.2-1.43.59L10.3 9.45l-7.72 7.72c-.78.78-.78 2.05 0 2.83L4 21.41c.39.39.9.59 1.41.59.51 0 1.02-.2 1.41-.59l7.78-7.78 2.81-2.81c.8-.78.8-2.07 0-2.86zM5.41 20L4 18.59l7.72-7.72 1.47 1.35L5.41 20z\"/>\n",
              "  </svg>\n",
              "      </button>\n",
              "      \n",
              "  <style>\n",
              "    .colab-df-container {\n",
              "      display:flex;\n",
              "      flex-wrap:wrap;\n",
              "      gap: 12px;\n",
              "    }\n",
              "\n",
              "    .colab-df-convert {\n",
              "      background-color: #E8F0FE;\n",
              "      border: none;\n",
              "      border-radius: 50%;\n",
              "      cursor: pointer;\n",
              "      display: none;\n",
              "      fill: #1967D2;\n",
              "      height: 32px;\n",
              "      padding: 0 0 0 0;\n",
              "      width: 32px;\n",
              "    }\n",
              "\n",
              "    .colab-df-convert:hover {\n",
              "      background-color: #E2EBFA;\n",
              "      box-shadow: 0px 1px 2px rgba(60, 64, 67, 0.3), 0px 1px 3px 1px rgba(60, 64, 67, 0.15);\n",
              "      fill: #174EA6;\n",
              "    }\n",
              "\n",
              "    [theme=dark] .colab-df-convert {\n",
              "      background-color: #3B4455;\n",
              "      fill: #D2E3FC;\n",
              "    }\n",
              "\n",
              "    [theme=dark] .colab-df-convert:hover {\n",
              "      background-color: #434B5C;\n",
              "      box-shadow: 0px 1px 3px 1px rgba(0, 0, 0, 0.15);\n",
              "      filter: drop-shadow(0px 1px 2px rgba(0, 0, 0, 0.3));\n",
              "      fill: #FFFFFF;\n",
              "    }\n",
              "  </style>\n",
              "\n",
              "      <script>\n",
              "        const buttonEl =\n",
              "          document.querySelector('#df-c0794545-6a28-4fad-bcd6-3dca3cf6d115 button.colab-df-convert');\n",
              "        buttonEl.style.display =\n",
              "          google.colab.kernel.accessAllowed ? 'block' : 'none';\n",
              "\n",
              "        async function convertToInteractive(key) {\n",
              "          const element = document.querySelector('#df-c0794545-6a28-4fad-bcd6-3dca3cf6d115');\n",
              "          const dataTable =\n",
              "            await google.colab.kernel.invokeFunction('convertToInteractive',\n",
              "                                                     [key], {});\n",
              "          if (!dataTable) return;\n",
              "\n",
              "          const docLinkHtml = 'Like what you see? Visit the ' +\n",
              "            '<a target=\"_blank\" href=https://colab.research.google.com/notebooks/data_table.ipynb>data table notebook</a>'\n",
              "            + ' to learn more about interactive tables.';\n",
              "          element.innerHTML = '';\n",
              "          dataTable['output_type'] = 'display_data';\n",
              "          await google.colab.output.renderOutput(dataTable, element);\n",
              "          const docLink = document.createElement('div');\n",
              "          docLink.innerHTML = docLinkHtml;\n",
              "          element.appendChild(docLink);\n",
              "        }\n",
              "      </script>\n",
              "    </div>\n",
              "  </div>\n",
              "  "
            ]
          },
          "metadata": {},
          "execution_count": 7
        }
      ]
    },
    {
      "cell_type": "code",
      "source": [
        "word['count'] = word['word'].str.len()\n",
        "word"
      ],
      "metadata": {
        "colab": {
          "base_uri": "https://localhost:8080/",
          "height": 424
        },
        "id": "86JfV6mgK1s7",
        "outputId": "e81ca4e4-d181-4e23-ec47-96da8c5e4f9c"
      },
      "execution_count": 8,
      "outputs": [
        {
          "output_type": "execute_result",
          "data": {
            "text/plain": [
              "    word  count\n",
              "0     존경      2\n",
              "1     내외      2\n",
              "2     국민      2\n",
              "3    여러분      3\n",
              "4     한번      2\n",
              "..   ...    ...\n",
              "297   국민      2\n",
              "298  여러분      3\n",
              "299   한번      2\n",
              "300   감사      2\n",
              "301    드      1\n",
              "\n",
              "[302 rows x 2 columns]"
            ],
            "text/html": [
              "\n",
              "  <div id=\"df-5e15eb90-ea8e-47db-9b9e-b39f80bc30b2\">\n",
              "    <div class=\"colab-df-container\">\n",
              "      <div>\n",
              "<style scoped>\n",
              "    .dataframe tbody tr th:only-of-type {\n",
              "        vertical-align: middle;\n",
              "    }\n",
              "\n",
              "    .dataframe tbody tr th {\n",
              "        vertical-align: top;\n",
              "    }\n",
              "\n",
              "    .dataframe thead th {\n",
              "        text-align: right;\n",
              "    }\n",
              "</style>\n",
              "<table border=\"1\" class=\"dataframe\">\n",
              "  <thead>\n",
              "    <tr style=\"text-align: right;\">\n",
              "      <th></th>\n",
              "      <th>word</th>\n",
              "      <th>count</th>\n",
              "    </tr>\n",
              "  </thead>\n",
              "  <tbody>\n",
              "    <tr>\n",
              "      <th>0</th>\n",
              "      <td>존경</td>\n",
              "      <td>2</td>\n",
              "    </tr>\n",
              "    <tr>\n",
              "      <th>1</th>\n",
              "      <td>내외</td>\n",
              "      <td>2</td>\n",
              "    </tr>\n",
              "    <tr>\n",
              "      <th>2</th>\n",
              "      <td>국민</td>\n",
              "      <td>2</td>\n",
              "    </tr>\n",
              "    <tr>\n",
              "      <th>3</th>\n",
              "      <td>여러분</td>\n",
              "      <td>3</td>\n",
              "    </tr>\n",
              "    <tr>\n",
              "      <th>4</th>\n",
              "      <td>한번</td>\n",
              "      <td>2</td>\n",
              "    </tr>\n",
              "    <tr>\n",
              "      <th>...</th>\n",
              "      <td>...</td>\n",
              "      <td>...</td>\n",
              "    </tr>\n",
              "    <tr>\n",
              "      <th>297</th>\n",
              "      <td>국민</td>\n",
              "      <td>2</td>\n",
              "    </tr>\n",
              "    <tr>\n",
              "      <th>298</th>\n",
              "      <td>여러분</td>\n",
              "      <td>3</td>\n",
              "    </tr>\n",
              "    <tr>\n",
              "      <th>299</th>\n",
              "      <td>한번</td>\n",
              "      <td>2</td>\n",
              "    </tr>\n",
              "    <tr>\n",
              "      <th>300</th>\n",
              "      <td>감사</td>\n",
              "      <td>2</td>\n",
              "    </tr>\n",
              "    <tr>\n",
              "      <th>301</th>\n",
              "      <td>드</td>\n",
              "      <td>1</td>\n",
              "    </tr>\n",
              "  </tbody>\n",
              "</table>\n",
              "<p>302 rows × 2 columns</p>\n",
              "</div>\n",
              "      <button class=\"colab-df-convert\" onclick=\"convertToInteractive('df-5e15eb90-ea8e-47db-9b9e-b39f80bc30b2')\"\n",
              "              title=\"Convert this dataframe to an interactive table.\"\n",
              "              style=\"display:none;\">\n",
              "        \n",
              "  <svg xmlns=\"http://www.w3.org/2000/svg\" height=\"24px\"viewBox=\"0 0 24 24\"\n",
              "       width=\"24px\">\n",
              "    <path d=\"M0 0h24v24H0V0z\" fill=\"none\"/>\n",
              "    <path d=\"M18.56 5.44l.94 2.06.94-2.06 2.06-.94-2.06-.94-.94-2.06-.94 2.06-2.06.94zm-11 1L8.5 8.5l.94-2.06 2.06-.94-2.06-.94L8.5 2.5l-.94 2.06-2.06.94zm10 10l.94 2.06.94-2.06 2.06-.94-2.06-.94-.94-2.06-.94 2.06-2.06.94z\"/><path d=\"M17.41 7.96l-1.37-1.37c-.4-.4-.92-.59-1.43-.59-.52 0-1.04.2-1.43.59L10.3 9.45l-7.72 7.72c-.78.78-.78 2.05 0 2.83L4 21.41c.39.39.9.59 1.41.59.51 0 1.02-.2 1.41-.59l7.78-7.78 2.81-2.81c.8-.78.8-2.07 0-2.86zM5.41 20L4 18.59l7.72-7.72 1.47 1.35L5.41 20z\"/>\n",
              "  </svg>\n",
              "      </button>\n",
              "      \n",
              "  <style>\n",
              "    .colab-df-container {\n",
              "      display:flex;\n",
              "      flex-wrap:wrap;\n",
              "      gap: 12px;\n",
              "    }\n",
              "\n",
              "    .colab-df-convert {\n",
              "      background-color: #E8F0FE;\n",
              "      border: none;\n",
              "      border-radius: 50%;\n",
              "      cursor: pointer;\n",
              "      display: none;\n",
              "      fill: #1967D2;\n",
              "      height: 32px;\n",
              "      padding: 0 0 0 0;\n",
              "      width: 32px;\n",
              "    }\n",
              "\n",
              "    .colab-df-convert:hover {\n",
              "      background-color: #E2EBFA;\n",
              "      box-shadow: 0px 1px 2px rgba(60, 64, 67, 0.3), 0px 1px 3px 1px rgba(60, 64, 67, 0.15);\n",
              "      fill: #174EA6;\n",
              "    }\n",
              "\n",
              "    [theme=dark] .colab-df-convert {\n",
              "      background-color: #3B4455;\n",
              "      fill: #D2E3FC;\n",
              "    }\n",
              "\n",
              "    [theme=dark] .colab-df-convert:hover {\n",
              "      background-color: #434B5C;\n",
              "      box-shadow: 0px 1px 3px 1px rgba(0, 0, 0, 0.15);\n",
              "      filter: drop-shadow(0px 1px 2px rgba(0, 0, 0, 0.3));\n",
              "      fill: #FFFFFF;\n",
              "    }\n",
              "  </style>\n",
              "\n",
              "      <script>\n",
              "        const buttonEl =\n",
              "          document.querySelector('#df-5e15eb90-ea8e-47db-9b9e-b39f80bc30b2 button.colab-df-convert');\n",
              "        buttonEl.style.display =\n",
              "          google.colab.kernel.accessAllowed ? 'block' : 'none';\n",
              "\n",
              "        async function convertToInteractive(key) {\n",
              "          const element = document.querySelector('#df-5e15eb90-ea8e-47db-9b9e-b39f80bc30b2');\n",
              "          const dataTable =\n",
              "            await google.colab.kernel.invokeFunction('convertToInteractive',\n",
              "                                                     [key], {});\n",
              "          if (!dataTable) return;\n",
              "\n",
              "          const docLinkHtml = 'Like what you see? Visit the ' +\n",
              "            '<a target=\"_blank\" href=https://colab.research.google.com/notebooks/data_table.ipynb>data table notebook</a>'\n",
              "            + ' to learn more about interactive tables.';\n",
              "          element.innerHTML = '';\n",
              "          dataTable['output_type'] = 'display_data';\n",
              "          await google.colab.output.renderOutput(dataTable, element);\n",
              "          const docLink = document.createElement('div');\n",
              "          docLink.innerHTML = docLinkHtml;\n",
              "          element.appendChild(docLink);\n",
              "        }\n",
              "      </script>\n",
              "    </div>\n",
              "  </div>\n",
              "  "
            ]
          },
          "metadata": {},
          "execution_count": 8
        }
      ]
    },
    {
      "cell_type": "code",
      "source": [
        "word = word.query('count >= 2' and 'count < 4')\n",
        "word = word.sort_values('count', ascending = True)\n",
        "word"
      ],
      "metadata": {
        "colab": {
          "base_uri": "https://localhost:8080/",
          "height": 424
        },
        "id": "2eigKVa8LECy",
        "outputId": "86fa3752-b691-445d-89a8-a90bb5ea1972"
      },
      "execution_count": 9,
      "outputs": [
        {
          "output_type": "execute_result",
          "data": {
            "text/plain": [
              "    word  count\n",
              "150    저      1\n",
              "109    저      1\n",
              "108    일      1\n",
              "106    것      1\n",
              "102    저      1\n",
              "..   ...    ...\n",
              "134  국가적      3\n",
              "277  문화적      3\n",
              "5    여러분      3\n",
              "147  여러분      3\n",
              "51   여러분      3\n",
              "\n",
              "[280 rows x 2 columns]"
            ],
            "text/html": [
              "\n",
              "  <div id=\"df-44010bd1-5715-403a-b748-bbc0d25227ec\">\n",
              "    <div class=\"colab-df-container\">\n",
              "      <div>\n",
              "<style scoped>\n",
              "    .dataframe tbody tr th:only-of-type {\n",
              "        vertical-align: middle;\n",
              "    }\n",
              "\n",
              "    .dataframe tbody tr th {\n",
              "        vertical-align: top;\n",
              "    }\n",
              "\n",
              "    .dataframe thead th {\n",
              "        text-align: right;\n",
              "    }\n",
              "</style>\n",
              "<table border=\"1\" class=\"dataframe\">\n",
              "  <thead>\n",
              "    <tr style=\"text-align: right;\">\n",
              "      <th></th>\n",
              "      <th>word</th>\n",
              "      <th>count</th>\n",
              "    </tr>\n",
              "  </thead>\n",
              "  <tbody>\n",
              "    <tr>\n",
              "      <th>150</th>\n",
              "      <td>저</td>\n",
              "      <td>1</td>\n",
              "    </tr>\n",
              "    <tr>\n",
              "      <th>109</th>\n",
              "      <td>저</td>\n",
              "      <td>1</td>\n",
              "    </tr>\n",
              "    <tr>\n",
              "      <th>108</th>\n",
              "      <td>일</td>\n",
              "      <td>1</td>\n",
              "    </tr>\n",
              "    <tr>\n",
              "      <th>106</th>\n",
              "      <td>것</td>\n",
              "      <td>1</td>\n",
              "    </tr>\n",
              "    <tr>\n",
              "      <th>102</th>\n",
              "      <td>저</td>\n",
              "      <td>1</td>\n",
              "    </tr>\n",
              "    <tr>\n",
              "      <th>...</th>\n",
              "      <td>...</td>\n",
              "      <td>...</td>\n",
              "    </tr>\n",
              "    <tr>\n",
              "      <th>134</th>\n",
              "      <td>국가적</td>\n",
              "      <td>3</td>\n",
              "    </tr>\n",
              "    <tr>\n",
              "      <th>277</th>\n",
              "      <td>문화적</td>\n",
              "      <td>3</td>\n",
              "    </tr>\n",
              "    <tr>\n",
              "      <th>5</th>\n",
              "      <td>여러분</td>\n",
              "      <td>3</td>\n",
              "    </tr>\n",
              "    <tr>\n",
              "      <th>147</th>\n",
              "      <td>여러분</td>\n",
              "      <td>3</td>\n",
              "    </tr>\n",
              "    <tr>\n",
              "      <th>51</th>\n",
              "      <td>여러분</td>\n",
              "      <td>3</td>\n",
              "    </tr>\n",
              "  </tbody>\n",
              "</table>\n",
              "<p>280 rows × 2 columns</p>\n",
              "</div>\n",
              "      <button class=\"colab-df-convert\" onclick=\"convertToInteractive('df-44010bd1-5715-403a-b748-bbc0d25227ec')\"\n",
              "              title=\"Convert this dataframe to an interactive table.\"\n",
              "              style=\"display:none;\">\n",
              "        \n",
              "  <svg xmlns=\"http://www.w3.org/2000/svg\" height=\"24px\"viewBox=\"0 0 24 24\"\n",
              "       width=\"24px\">\n",
              "    <path d=\"M0 0h24v24H0V0z\" fill=\"none\"/>\n",
              "    <path d=\"M18.56 5.44l.94 2.06.94-2.06 2.06-.94-2.06-.94-.94-2.06-.94 2.06-2.06.94zm-11 1L8.5 8.5l.94-2.06 2.06-.94-2.06-.94L8.5 2.5l-.94 2.06-2.06.94zm10 10l.94 2.06.94-2.06 2.06-.94-2.06-.94-.94-2.06-.94 2.06-2.06.94z\"/><path d=\"M17.41 7.96l-1.37-1.37c-.4-.4-.92-.59-1.43-.59-.52 0-1.04.2-1.43.59L10.3 9.45l-7.72 7.72c-.78.78-.78 2.05 0 2.83L4 21.41c.39.39.9.59 1.41.59.51 0 1.02-.2 1.41-.59l7.78-7.78 2.81-2.81c.8-.78.8-2.07 0-2.86zM5.41 20L4 18.59l7.72-7.72 1.47 1.35L5.41 20z\"/>\n",
              "  </svg>\n",
              "      </button>\n",
              "      \n",
              "  <style>\n",
              "    .colab-df-container {\n",
              "      display:flex;\n",
              "      flex-wrap:wrap;\n",
              "      gap: 12px;\n",
              "    }\n",
              "\n",
              "    .colab-df-convert {\n",
              "      background-color: #E8F0FE;\n",
              "      border: none;\n",
              "      border-radius: 50%;\n",
              "      cursor: pointer;\n",
              "      display: none;\n",
              "      fill: #1967D2;\n",
              "      height: 32px;\n",
              "      padding: 0 0 0 0;\n",
              "      width: 32px;\n",
              "    }\n",
              "\n",
              "    .colab-df-convert:hover {\n",
              "      background-color: #E2EBFA;\n",
              "      box-shadow: 0px 1px 2px rgba(60, 64, 67, 0.3), 0px 1px 3px 1px rgba(60, 64, 67, 0.15);\n",
              "      fill: #174EA6;\n",
              "    }\n",
              "\n",
              "    [theme=dark] .colab-df-convert {\n",
              "      background-color: #3B4455;\n",
              "      fill: #D2E3FC;\n",
              "    }\n",
              "\n",
              "    [theme=dark] .colab-df-convert:hover {\n",
              "      background-color: #434B5C;\n",
              "      box-shadow: 0px 1px 3px 1px rgba(0, 0, 0, 0.15);\n",
              "      filter: drop-shadow(0px 1px 2px rgba(0, 0, 0, 0.3));\n",
              "      fill: #FFFFFF;\n",
              "    }\n",
              "  </style>\n",
              "\n",
              "      <script>\n",
              "        const buttonEl =\n",
              "          document.querySelector('#df-44010bd1-5715-403a-b748-bbc0d25227ec button.colab-df-convert');\n",
              "        buttonEl.style.display =\n",
              "          google.colab.kernel.accessAllowed ? 'block' : 'none';\n",
              "\n",
              "        async function convertToInteractive(key) {\n",
              "          const element = document.querySelector('#df-44010bd1-5715-403a-b748-bbc0d25227ec');\n",
              "          const dataTable =\n",
              "            await google.colab.kernel.invokeFunction('convertToInteractive',\n",
              "                                                     [key], {});\n",
              "          if (!dataTable) return;\n",
              "\n",
              "          const docLinkHtml = 'Like what you see? Visit the ' +\n",
              "            '<a target=\"_blank\" href=https://colab.research.google.com/notebooks/data_table.ipynb>data table notebook</a>'\n",
              "            + ' to learn more about interactive tables.';\n",
              "          element.innerHTML = '';\n",
              "          dataTable['output_type'] = 'display_data';\n",
              "          await google.colab.output.renderOutput(dataTable, element);\n",
              "          const docLink = document.createElement('div');\n",
              "          docLink.innerHTML = docLinkHtml;\n",
              "          element.appendChild(docLink);\n",
              "        }\n",
              "      </script>\n",
              "    </div>\n",
              "  </div>\n",
              "  "
            ]
          },
          "metadata": {},
          "execution_count": 9
        }
      ]
    },
    {
      "cell_type": "markdown",
      "source": [
        "편리하게 사용하기 위해서 데이터 프레임 형태로 변환 후, 글자 수 2~4개 까지의 단어만 남긴 후 다 날렸습니다. \n",
        "query()로 count 2개에서 4개 사이 추출. sort_values()로 오름차순 정렬."
      ],
      "metadata": {
        "id": "mUCk4MumLsuM"
      }
    },
    {
      "cell_type": "code",
      "source": [
        "word = word.groupby('word', as_index = False).agg(n = ('word', 'count')).sort_values('n', ascending = False).head(20)\n",
        "word"
      ],
      "metadata": {
        "colab": {
          "base_uri": "https://localhost:8080/",
          "height": 677
        },
        "id": "8v4FKsVSLRU-",
        "outputId": "b7a2e29a-f8d7-4479-c1dc-9c774876e0e4"
      },
      "execution_count": 10,
      "outputs": [
        {
          "output_type": "execute_result",
          "data": {
            "text/plain": [
              "    word   n\n",
              "107   우리  15\n",
              "96   여러분  10\n",
              "124    저  10\n",
              "8      것  10\n",
              "25    국민   7\n",
              "161   협력   7\n",
              "80    세계   6\n",
              "33    나라   5\n",
              "29    극복   4\n",
              "81     속   4\n",
              "82     수   4\n",
              "22    교류   3\n",
              "143   축하   3\n",
              "79    성원   3\n",
              "75    생각   3\n",
              "39     년   3\n",
              "3     감사   3\n",
              "38    내일   3\n",
              "66    민족   3\n",
              "65   문화적   2"
            ],
            "text/html": [
              "\n",
              "  <div id=\"df-9dee5d0e-abc8-4c92-9ad4-9eab8dc9a5a3\">\n",
              "    <div class=\"colab-df-container\">\n",
              "      <div>\n",
              "<style scoped>\n",
              "    .dataframe tbody tr th:only-of-type {\n",
              "        vertical-align: middle;\n",
              "    }\n",
              "\n",
              "    .dataframe tbody tr th {\n",
              "        vertical-align: top;\n",
              "    }\n",
              "\n",
              "    .dataframe thead th {\n",
              "        text-align: right;\n",
              "    }\n",
              "</style>\n",
              "<table border=\"1\" class=\"dataframe\">\n",
              "  <thead>\n",
              "    <tr style=\"text-align: right;\">\n",
              "      <th></th>\n",
              "      <th>word</th>\n",
              "      <th>n</th>\n",
              "    </tr>\n",
              "  </thead>\n",
              "  <tbody>\n",
              "    <tr>\n",
              "      <th>107</th>\n",
              "      <td>우리</td>\n",
              "      <td>15</td>\n",
              "    </tr>\n",
              "    <tr>\n",
              "      <th>96</th>\n",
              "      <td>여러분</td>\n",
              "      <td>10</td>\n",
              "    </tr>\n",
              "    <tr>\n",
              "      <th>124</th>\n",
              "      <td>저</td>\n",
              "      <td>10</td>\n",
              "    </tr>\n",
              "    <tr>\n",
              "      <th>8</th>\n",
              "      <td>것</td>\n",
              "      <td>10</td>\n",
              "    </tr>\n",
              "    <tr>\n",
              "      <th>25</th>\n",
              "      <td>국민</td>\n",
              "      <td>7</td>\n",
              "    </tr>\n",
              "    <tr>\n",
              "      <th>161</th>\n",
              "      <td>협력</td>\n",
              "      <td>7</td>\n",
              "    </tr>\n",
              "    <tr>\n",
              "      <th>80</th>\n",
              "      <td>세계</td>\n",
              "      <td>6</td>\n",
              "    </tr>\n",
              "    <tr>\n",
              "      <th>33</th>\n",
              "      <td>나라</td>\n",
              "      <td>5</td>\n",
              "    </tr>\n",
              "    <tr>\n",
              "      <th>29</th>\n",
              "      <td>극복</td>\n",
              "      <td>4</td>\n",
              "    </tr>\n",
              "    <tr>\n",
              "      <th>81</th>\n",
              "      <td>속</td>\n",
              "      <td>4</td>\n",
              "    </tr>\n",
              "    <tr>\n",
              "      <th>82</th>\n",
              "      <td>수</td>\n",
              "      <td>4</td>\n",
              "    </tr>\n",
              "    <tr>\n",
              "      <th>22</th>\n",
              "      <td>교류</td>\n",
              "      <td>3</td>\n",
              "    </tr>\n",
              "    <tr>\n",
              "      <th>143</th>\n",
              "      <td>축하</td>\n",
              "      <td>3</td>\n",
              "    </tr>\n",
              "    <tr>\n",
              "      <th>79</th>\n",
              "      <td>성원</td>\n",
              "      <td>3</td>\n",
              "    </tr>\n",
              "    <tr>\n",
              "      <th>75</th>\n",
              "      <td>생각</td>\n",
              "      <td>3</td>\n",
              "    </tr>\n",
              "    <tr>\n",
              "      <th>39</th>\n",
              "      <td>년</td>\n",
              "      <td>3</td>\n",
              "    </tr>\n",
              "    <tr>\n",
              "      <th>3</th>\n",
              "      <td>감사</td>\n",
              "      <td>3</td>\n",
              "    </tr>\n",
              "    <tr>\n",
              "      <th>38</th>\n",
              "      <td>내일</td>\n",
              "      <td>3</td>\n",
              "    </tr>\n",
              "    <tr>\n",
              "      <th>66</th>\n",
              "      <td>민족</td>\n",
              "      <td>3</td>\n",
              "    </tr>\n",
              "    <tr>\n",
              "      <th>65</th>\n",
              "      <td>문화적</td>\n",
              "      <td>2</td>\n",
              "    </tr>\n",
              "  </tbody>\n",
              "</table>\n",
              "</div>\n",
              "      <button class=\"colab-df-convert\" onclick=\"convertToInteractive('df-9dee5d0e-abc8-4c92-9ad4-9eab8dc9a5a3')\"\n",
              "              title=\"Convert this dataframe to an interactive table.\"\n",
              "              style=\"display:none;\">\n",
              "        \n",
              "  <svg xmlns=\"http://www.w3.org/2000/svg\" height=\"24px\"viewBox=\"0 0 24 24\"\n",
              "       width=\"24px\">\n",
              "    <path d=\"M0 0h24v24H0V0z\" fill=\"none\"/>\n",
              "    <path d=\"M18.56 5.44l.94 2.06.94-2.06 2.06-.94-2.06-.94-.94-2.06-.94 2.06-2.06.94zm-11 1L8.5 8.5l.94-2.06 2.06-.94-2.06-.94L8.5 2.5l-.94 2.06-2.06.94zm10 10l.94 2.06.94-2.06 2.06-.94-2.06-.94-.94-2.06-.94 2.06-2.06.94z\"/><path d=\"M17.41 7.96l-1.37-1.37c-.4-.4-.92-.59-1.43-.59-.52 0-1.04.2-1.43.59L10.3 9.45l-7.72 7.72c-.78.78-.78 2.05 0 2.83L4 21.41c.39.39.9.59 1.41.59.51 0 1.02-.2 1.41-.59l7.78-7.78 2.81-2.81c.8-.78.8-2.07 0-2.86zM5.41 20L4 18.59l7.72-7.72 1.47 1.35L5.41 20z\"/>\n",
              "  </svg>\n",
              "      </button>\n",
              "      \n",
              "  <style>\n",
              "    .colab-df-container {\n",
              "      display:flex;\n",
              "      flex-wrap:wrap;\n",
              "      gap: 12px;\n",
              "    }\n",
              "\n",
              "    .colab-df-convert {\n",
              "      background-color: #E8F0FE;\n",
              "      border: none;\n",
              "      border-radius: 50%;\n",
              "      cursor: pointer;\n",
              "      display: none;\n",
              "      fill: #1967D2;\n",
              "      height: 32px;\n",
              "      padding: 0 0 0 0;\n",
              "      width: 32px;\n",
              "    }\n",
              "\n",
              "    .colab-df-convert:hover {\n",
              "      background-color: #E2EBFA;\n",
              "      box-shadow: 0px 1px 2px rgba(60, 64, 67, 0.3), 0px 1px 3px 1px rgba(60, 64, 67, 0.15);\n",
              "      fill: #174EA6;\n",
              "    }\n",
              "\n",
              "    [theme=dark] .colab-df-convert {\n",
              "      background-color: #3B4455;\n",
              "      fill: #D2E3FC;\n",
              "    }\n",
              "\n",
              "    [theme=dark] .colab-df-convert:hover {\n",
              "      background-color: #434B5C;\n",
              "      box-shadow: 0px 1px 3px 1px rgba(0, 0, 0, 0.15);\n",
              "      filter: drop-shadow(0px 1px 2px rgba(0, 0, 0, 0.3));\n",
              "      fill: #FFFFFF;\n",
              "    }\n",
              "  </style>\n",
              "\n",
              "      <script>\n",
              "        const buttonEl =\n",
              "          document.querySelector('#df-9dee5d0e-abc8-4c92-9ad4-9eab8dc9a5a3 button.colab-df-convert');\n",
              "        buttonEl.style.display =\n",
              "          google.colab.kernel.accessAllowed ? 'block' : 'none';\n",
              "\n",
              "        async function convertToInteractive(key) {\n",
              "          const element = document.querySelector('#df-9dee5d0e-abc8-4c92-9ad4-9eab8dc9a5a3');\n",
              "          const dataTable =\n",
              "            await google.colab.kernel.invokeFunction('convertToInteractive',\n",
              "                                                     [key], {});\n",
              "          if (!dataTable) return;\n",
              "\n",
              "          const docLinkHtml = 'Like what you see? Visit the ' +\n",
              "            '<a target=\"_blank\" href=https://colab.research.google.com/notebooks/data_table.ipynb>data table notebook</a>'\n",
              "            + ' to learn more about interactive tables.';\n",
              "          element.innerHTML = '';\n",
              "          dataTable['output_type'] = 'display_data';\n",
              "          await google.colab.output.renderOutput(dataTable, element);\n",
              "          const docLink = document.createElement('div');\n",
              "          docLink.innerHTML = docLinkHtml;\n",
              "          element.appendChild(docLink);\n",
              "        }\n",
              "      </script>\n",
              "    </div>\n",
              "  </div>\n",
              "  "
            ]
          },
          "metadata": {},
          "execution_count": 10
        }
      ]
    },
    {
      "cell_type": "markdown",
      "source": [
        "head로 글자빈도 상위 15개만 따로 추출했습니다."
      ],
      "metadata": {
        "id": "NAPAfh4WtcAx"
      }
    },
    {
      "cell_type": "code",
      "source": [
        "!sudo apt-get install -y fonts-nanum\n",
        "\n",
        "!sudo fc-cache -fv\n",
        "\n",
        "!rm ~/.cache/matplotlib -rf"
      ],
      "metadata": {
        "colab": {
          "base_uri": "https://localhost:8080/"
        },
        "id": "AYkWCnseuFIf",
        "outputId": "1105676c-391c-46f4-c633-dd235778a8b2"
      },
      "execution_count": 22,
      "outputs": [
        {
          "output_type": "stream",
          "name": "stdout",
          "text": [
            "Reading package lists... Done\n",
            "Building dependency tree       \n",
            "Reading state information... Done\n",
            "fonts-nanum is already the newest version (20170925-1).\n",
            "The following package was automatically installed and is no longer required:\n",
            "  libnvidia-common-460\n",
            "Use 'sudo apt autoremove' to remove it.\n",
            "0 upgraded, 0 newly installed, 0 to remove and 20 not upgraded.\n",
            "/usr/share/fonts: caching, new cache contents: 0 fonts, 1 dirs\n",
            "/usr/share/fonts/truetype: caching, new cache contents: 0 fonts, 3 dirs\n",
            "/usr/share/fonts/truetype/humor-sans: caching, new cache contents: 1 fonts, 0 dirs\n",
            "/usr/share/fonts/truetype/liberation: caching, new cache contents: 16 fonts, 0 dirs\n",
            "/usr/share/fonts/truetype/nanum: caching, new cache contents: 10 fonts, 0 dirs\n",
            "/usr/local/share/fonts: caching, new cache contents: 0 fonts, 0 dirs\n",
            "/root/.local/share/fonts: skipping, no such directory\n",
            "/root/.fonts: skipping, no such directory\n",
            "/var/cache/fontconfig: cleaning cache directory\n",
            "/root/.cache/fontconfig: not cleaning non-existent cache directory\n",
            "/root/.fontconfig: not cleaning non-existent cache directory\n",
            "fc-cache: succeeded\n"
          ]
        }
      ]
    },
    {
      "cell_type": "markdown",
      "source": [
        "Colab 환경에서 그래프 불러올때, 한글이 깨지는 현상이 나타납니다.\n",
        "위와 같이 폰트 설치를 해주어야, 한글 깨짐 현상을 해결 할 수 있습니다.\n",
        "설치 후, 런타임 재시작 했습니다."
      ],
      "metadata": {
        "id": "uJHw3uxSua13"
      }
    },
    {
      "cell_type": "code",
      "source": [
        "import matplotlib.pyplot as plt\n",
        "\n",
        "plt.rcParams['font.family'] = 'NanumBarunGothic' "
      ],
      "metadata": {
        "id": "6gErNKw0MXbS"
      },
      "execution_count": 11,
      "outputs": []
    },
    {
      "cell_type": "code",
      "source": [
        "plt.rcParams.update({'font.family': 'NanumBarunGothic',\n",
        "                     'figure.dpi' : '120',\n",
        "                     'figure.figsize':[6.5,6]})"
      ],
      "metadata": {
        "id": "OWVh3hrQdPoT"
      },
      "execution_count": 12,
      "outputs": []
    },
    {
      "cell_type": "code",
      "source": [
        "import seaborn as sns\n",
        "sns.barplot(data = word, y = 'word', x = 'n')"
      ],
      "metadata": {
        "colab": {
          "base_uri": "https://localhost:8080/",
          "height": 656
        },
        "id": "Q4lMpC18dSw5",
        "outputId": "8d9f6a18-502a-41b3-9b22-259e618ce6a8"
      },
      "execution_count": 13,
      "outputs": [
        {
          "output_type": "execute_result",
          "data": {
            "text/plain": [
              "<matplotlib.axes._subplots.AxesSubplot at 0x7f0af9b61d00>"
            ]
          },
          "metadata": {},
          "execution_count": 13
        },
        {
          "output_type": "display_data",
          "data": {
            "text/plain": [
              "<Figure size 780x720 with 1 Axes>"
            ],
            "image/png": "[encoded data removed]"
          },
          "metadata": {
            "needs_background": "light"
          }
        }
      ]
    },
    {
      "cell_type": "markdown",
      "source": [
        "추출해준 단어 빈도수를 그래프로 나타낸 겁니다. 빈도 수 상위 15개의 단어가 잘 나온것을 알 수 있습니다."
      ],
      "metadata": {
        "id": "OUWJ5Magu6-u"
      }
    },
    {
      "cell_type": "markdown",
      "source": [
        "이제 설정한 단어로 워드 클라우드를 만들겠습니다."
      ],
      "metadata": {
        "id": "Qt-zgk6dvPHQ"
      }
    },
    {
      "cell_type": "code",
      "source": [
        "!pip install wordcloud"
      ],
      "metadata": {
        "id": "QeoJ56fDdfZ-",
        "colab": {
          "base_uri": "https://localhost:8080/"
        },
        "outputId": "2f9a9e64-b1c9-4209-9b6d-62fa8c09368c"
      },
      "execution_count": 14,
      "outputs": [
        {
          "output_type": "stream",
          "name": "stdout",
          "text": [
            "Looking in indexes: https://pypi.org/simple, https://us-python.pkg.dev/colab-wheels/public/simple/\n",
            "Requirement already satisfied: wordcloud in /usr/local/lib/python3.8/dist-packages (1.8.2.2)\n",
            "Requirement already satisfied: pillow in /usr/local/lib/python3.8/dist-packages (from wordcloud) (7.1.2)\n",
            "Requirement already satisfied: matplotlib in /usr/local/lib/python3.8/dist-packages (from wordcloud) (3.2.2)\n",
            "Requirement already satisfied: numpy>=1.6.1 in /usr/local/lib/python3.8/dist-packages (from wordcloud) (1.21.6)\n",
            "Requirement already satisfied: python-dateutil>=2.1 in /usr/local/lib/python3.8/dist-packages (from matplotlib->wordcloud) (2.8.2)\n",
            "Requirement already satisfied: pyparsing!=2.0.4,!=2.1.2,!=2.1.6,>=2.0.1 in /usr/local/lib/python3.8/dist-packages (from matplotlib->wordcloud) (3.0.9)\n",
            "Requirement already satisfied: cycler>=0.10 in /usr/local/lib/python3.8/dist-packages (from matplotlib->wordcloud) (0.11.0)\n",
            "Requirement already satisfied: kiwisolver>=1.0.1 in /usr/local/lib/python3.8/dist-packages (from matplotlib->wordcloud) (1.4.4)\n",
            "Requirement already satisfied: six>=1.5 in /usr/local/lib/python3.8/dist-packages (from python-dateutil>=2.1->matplotlib->wordcloud) (1.15.0)\n"
          ]
        }
      ]
    },
    {
      "cell_type": "code",
      "source": [
        "dic_word = word.set_index('word').to_dict()['n']\n",
        "dic_word"
      ],
      "metadata": {
        "colab": {
          "base_uri": "https://localhost:8080/"
        },
        "id": "vAaxHyjDvcN3",
        "outputId": "84db0ad8-65ab-48cf-bbb9-abd2c0341a3e"
      },
      "execution_count": 15,
      "outputs": [
        {
          "output_type": "execute_result",
          "data": {
            "text/plain": [
              "{'우리': 15,\n",
              " '여러분': 10,\n",
              " '저': 10,\n",
              " '것': 10,\n",
              " '국민': 7,\n",
              " '협력': 7,\n",
              " '세계': 6,\n",
              " '나라': 5,\n",
              " '극복': 4,\n",
              " '속': 4,\n",
              " '수': 4,\n",
              " '교류': 3,\n",
              " '축하': 3,\n",
              " '성원': 3,\n",
              " '생각': 3,\n",
              " '년': 3,\n",
              " '감사': 3,\n",
              " '내일': 3,\n",
              " '민족': 3,\n",
              " '문화적': 2}"
            ]
          },
          "metadata": {},
          "execution_count": 15
        }
      ]
    },
    {
      "cell_type": "markdown",
      "source": [
        "워드 클라우드를 만들기 위해서, 데이터 프레임을 딕셔너리 형태로 만들었습니다."
      ],
      "metadata": {
        "id": "UXKXrKgFIZxf"
      }
    },
    {
      "cell_type": "code",
      "source": [
        "font = '/content/drive/MyDrive/Doit_Python-main/Data/DoHyeon-Regular.ttf'"
      ],
      "metadata": {
        "id": "YVMo70QWwGo_"
      },
      "execution_count": 16,
      "outputs": []
    },
    {
      "cell_type": "code",
      "source": [
        "from wordcloud import WordCloud\n",
        "wc = WordCloud(random_state = 1234,\n",
        "               font_path = font,\n",
        "               width = 400,\n",
        "               height = 400,\n",
        "               background_color = 'white')"
      ],
      "metadata": {
        "id": "fo_NvdZuvoKP"
      },
      "execution_count": 19,
      "outputs": []
    },
    {
      "cell_type": "markdown",
      "source": [
        "background_color를 'white'로 설정 했습니다.\n",
        "위에 설정값은 원하는 값을 설정해주면 됩니다."
      ],
      "metadata": {
        "id": "OJ2f5hBMI1Nk"
      }
    },
    {
      "cell_type": "code",
      "source": [
        "img_wordcloud = wc.generate_from_frequencies(dic_word)\n",
        "\n",
        "plt.figure(figsize = (5,5))\n",
        "plt.axis('off')\n",
        "plt.imshow(img_wordcloud)"
      ],
      "metadata": {
        "colab": {
          "base_uri": "https://localhost:8080/",
          "height": 512
        },
        "id": "on5-H59jG7h6",
        "outputId": "a598f84d-ed67-4a4c-c1dc-879279558eca"
      },
      "execution_count": 20,
      "outputs": [
        {
          "output_type": "execute_result",
          "data": {
            "text/plain": [
              "<matplotlib.image.AxesImage at 0x7f0af8d37520>"
            ]
          },
          "metadata": {},
          "execution_count": 20
        },
        {
          "output_type": "display_data",
          "data": {
            "text/plain": [
              "<Figure size 600x600 with 1 Axes>"
            ],
            "image/png": "[encoded data removed]"
          },
          "metadata": {
            "needs_background": "light"
          }
        }
      ]
    },
    {
      "cell_type": "markdown",
      "source": [
        "후기: 모듈을 불러오기 위해서, 초기에 다운 받아줘야 하는것이 많았습니다. 어려운 것은 아니었지만, 라이브러리를 불러오고, 원하는 데이터를 추출해오고, 그간 공부했던 것을 복습하는데 도움이 되었습니다.\n"
      ],
      "metadata": {
        "id": "CvvcAAdgJN5k"
      }
    }
  ]
}